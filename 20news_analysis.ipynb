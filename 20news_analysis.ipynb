{
 "cells": [
  {
   "cell_type": "code",
   "execution_count": 3,
   "metadata": {},
   "outputs": [],
   "source": [
    "from src.pipelines import pipeline_20"
   ]
  },
  {
   "cell_type": "code",
   "execution_count": null,
   "metadata": {},
   "outputs": [],
   "source": [
    "dict_results = {}\n",
    "for num_categories in [2,4,6, 8]:\n",
    "    for z_dim in [50, 200]:\n",
    "        mean_sim, mean_neigh = pipeline_20(n_categories=num_categories, batch_size=64, num_epochs=15, z_dim=z_dim, k=30)\n",
    "        dict_results[(num_categories, z_dim)] = (mean_sim, mean_neigh)\n"
   ]
  }
 ],
 "metadata": {
  "kernelspec": {
   "display_name": "Python 3",
   "language": "python",
   "name": "python3"
  },
  "language_info": {
   "codemirror_mode": {
    "name": "ipython",
    "version": 3
   },
   "file_extension": ".py",
   "mimetype": "text/x-python",
   "name": "python",
   "nbconvert_exporter": "python",
   "pygments_lexer": "ipython3",
   "version": "3.11.1"
  }
 },
 "nbformat": 4,
 "nbformat_minor": 2
}
