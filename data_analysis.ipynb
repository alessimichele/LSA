{
 "cells": [
  {
   "cell_type": "markdown",
   "metadata": {},
   "source": [
    "# Analysis of TIME, CRAN and MED datasets\n",
    "\n",
    "For each dataset: \n",
    "- load the data\n",
    "- initialize a `IR` object \n",
    "- call the pipeline\n",
    "\n",
    "For further info, see GitHub README, or `data_pipeline()` documentation."
   ]
  },
  {
   "cell_type": "code",
   "execution_count": null,
   "metadata": {},
   "outputs": [],
   "source": [
    "from src.import_dataset import *\n",
    "from src.IR import *\n",
    "from src.pipelines import data_pipeline"
   ]
  },
  {
   "cell_type": "markdown",
   "metadata": {},
   "source": [
    "### Time dataset"
   ]
  },
  {
   "cell_type": "code",
   "execution_count": null,
   "metadata": {},
   "outputs": [],
   "source": [
    "corpus, splitted_corpus, queries, splitted_queries, relevances = import_TIME()\n",
    "time = IR('time', corpus, splitted_corpus, queries, splitted_queries, relevances)\n",
    "time1 = IR('time1', corpus, splitted_corpus, queries, splitted_queries, relevances)"
   ]
  },
  {
   "cell_type": "code",
   "execution_count": null,
   "metadata": {},
   "outputs": [],
   "source": [
    "result_svd_t, precision_svd_t, recall_svd_t, result_ae_t, precision_ae_t, recall_ae_t, losses_t, result_vae_t, precision_vae_t, recall_vae_t, vlossess_t = data_pipeline(time, embedding='wc', NUM_EPOCHS=1)"
   ]
  },
  {
   "cell_type": "code",
   "execution_count": null,
   "metadata": {},
   "outputs": [],
   "source": [
    "result_svd_t1, precision_svd_t1, recall_svd_t1, result_ae_t1, precision_ae_t1, recall_ae_t1, losses_t1, result_vae_t1, precision_vae_t1, recall_vae_t1, vlossess_t1 = data_pipeline(time1, embedding='tfidf')"
   ]
  },
  {
   "cell_type": "markdown",
   "metadata": {},
   "source": [
    "### Med dataset"
   ]
  },
  {
   "cell_type": "code",
   "execution_count": null,
   "metadata": {},
   "outputs": [],
   "source": [
    "corpus, splitted_corpus, queries, splitted_queries, relevances = import_MED()\n",
    "med = IR('med',corpus, splitted_corpus, queries, splitted_queries, relevances)\n",
    "med1 = IR('med1',corpus, splitted_corpus, queries, splitted_queries, relevances)"
   ]
  },
  {
   "cell_type": "code",
   "execution_count": null,
   "metadata": {},
   "outputs": [],
   "source": [
    "result_svd_m, precision_svd_m, recall_svd_m, result_ae_m, precision_ae_m, recall_ae_m, losses_m, resultv_ae_m, precision_vae_m, recall_vae_m, vlosses_m = data_pipeline(med, embedding='wc', \n",
    "                                                                                                                                                                     BATCH_SIZE=10,\n",
    "                                                                                                                                                                     h_dim_1=5000,\n",
    "                                                                                                                                                                     h_dim_2=2000,\n",
    "                                                                                                                                                                     z_dim=200,)"
   ]
  },
  {
   "cell_type": "code",
   "execution_count": null,
   "metadata": {},
   "outputs": [],
   "source": [
    "result_svd_m1, precision_svd_m1, recall_svd_m1, result_ae_m1, precision_ae_m1, recall_ae_m1, losses_m1, result_vae_m1, precision_vae_m1, recall_vae_m1, vlosses_m1 = data_pipeline(med1, embedding='tfidf', \n",
    "                                                                                                                                                                     BATCH_SIZE=10,\n",
    "                                                                                                                                                                     h_dim_1=5000,\n",
    "                                                                                                                                                                     h_dim_2=2000,\n",
    "                                                                                                                                                                     z_dim=200,)"
   ]
  },
  {
   "cell_type": "markdown",
   "metadata": {},
   "source": [
    "### Cran dataset"
   ]
  },
  {
   "cell_type": "code",
   "execution_count": null,
   "metadata": {},
   "outputs": [],
   "source": [
    "corpus, splitted_corpus, queries, splitted_queries, relevances = import_CRAN()\n",
    "cran = IR('cran', corpus, splitted_corpus, queries, splitted_queries, relevances)\n",
    "cran1 = IR('cran1',corpus, splitted_corpus, queries, splitted_queries, relevances)"
   ]
  },
  {
   "cell_type": "code",
   "execution_count": null,
   "metadata": {},
   "outputs": [],
   "source": [
    "result_svd_c, precision_svd_c, recall_svd_c, result_ae_c, precision_ae_c, recall_ae_c, losses_c, result_vae_c, precision_vae_c, recall_vae_c, vlosses_c = data_pipeline(cran, \n",
    "                                                                                                                                                                     embedding='wc', \n",
    "                                                                                                                                                                     BATCH_SIZE=20,\n",
    "                                                                                                                                                                     h_dim_1=500,\n",
    "                                                                                                                                                                     h_dim_2=500,\n",
    "                                                                                                                                                                     z_dim=200,)"
   ]
  },
  {
   "cell_type": "code",
   "execution_count": null,
   "metadata": {},
   "outputs": [],
   "source": [
    "result_svd_c1, precision_svd_c1, recall_svd_c1, result_ae_c1, precision_ae_c1, recall_ae_c1, losses_c1, result_vae_c1, precision_vae_c1, recall_vae_c1, vlosses_c1 = data_pipeline(cran1, \n",
    "                                                                                                                                                                                embedding='tfidf',\n",
    "                                                                                                                                                                                BATCH_SIZE=10,\n",
    "                                                                                                                                                                                h_dim_1=1000,\n",
    "                                                                                                                                                                                h_dim_2=500,\n",
    "                                                                                                                                                                                z_dim=200,)"
   ]
  }
 ],
 "metadata": {
  "kernelspec": {
   "display_name": "Python 3",
   "language": "python",
   "name": "python3"
  },
  "language_info": {
   "codemirror_mode": {
    "name": "ipython",
    "version": 3
   },
   "file_extension": ".py",
   "mimetype": "text/x-python",
   "name": "python",
   "nbconvert_exporter": "python",
   "pygments_lexer": "ipython3",
   "version": "3.11.1"
  }
 },
 "nbformat": 4,
 "nbformat_minor": 2
}
